{
 "cells": [
  {
   "cell_type": "code",
   "execution_count": 2,
   "metadata": {},
   "outputs": [],
   "source": [
    "import pandas as pd"
   ]
  },
  {
   "cell_type": "code",
   "execution_count": 4,
   "metadata": {},
   "outputs": [
    {
     "name": "stdout",
     "output_type": "stream",
     "text": [
      "                         id                 date     user       pc  \\\n",
      "0  {M7U4-Z9OZ74EF-5359TLQL}  01/02/2010 06:21:55  ORM1765  PC-4508   \n",
      "1  {Q3B4-W4SB15PN-0533ZZWV}  01/02/2010 06:22:32  ORM1765  PC-4508   \n",
      "2  {F4F5-C3TQ18NC-3798MSIH}  01/02/2010 06:22:44  ORM1765  PC-4508   \n",
      "3  {R3I9-C4SX09GR-7231RPOU}  01/02/2010 06:26:23  ORM1765  PC-4508   \n",
      "4  {E4V2-S6KB70VG-9665PCPZ}  01/02/2010 06:27:40  LLW1343  PC-6349   \n",
      "\n",
      "                                                 url  \\\n",
      "0  http://filestube.com/Eduard_Streltsov/lebedeva...   \n",
      "1  http://mediafire.com/Manchester_SmallScale_Exp...   \n",
      "2  http://mediafire.com/Manchester_SmallScale_Exp...   \n",
      "3  http://hulu.com/Bryce_Canyon_National_Park/bry...   \n",
      "4  http://shareasale.com/Singin_and_Swingin_and_G...   \n",
      "\n",
      "                                             content  \n",
      "0  develops point 1962 interesting agrees outline...  \n",
      "1  superior sent number breached meanwhile range ...  \n",
      "2  july that poorly politicians landings rest off...  \n",
      "3  resulted fourth bank began respective fire thi...  \n",
      "4  terminate established asked were point poor an...  \n"
     ]
    }
   ],
   "source": [
    "# df = pd.read_csv(\"/Users/kshitij/Downloads/r5.1/http.csv\")\n",
    "import pandas as pd\n",
    "\n",
    "chunk_size = 10000  # Number of rows per chunk\n",
    "for chunk in pd.read_csv(\"/Users/kshitij/Downloads/r5.1/http.csv\", chunksize=chunk_size):\n",
    "    print(chunk.head())  # Process each chunk separately\n",
    "    break  # Remove this if you want to process all chunks\n"
   ]
  },
  {
   "cell_type": "code",
   "execution_count": null,
   "metadata": {},
   "outputs": [],
   "source": []
  }
 ],
 "metadata": {
  "kernelspec": {
   "display_name": "base",
   "language": "python",
   "name": "python3"
  },
  "language_info": {
   "codemirror_mode": {
    "name": "ipython",
    "version": 3
   },
   "file_extension": ".py",
   "mimetype": "text/x-python",
   "name": "python",
   "nbconvert_exporter": "python",
   "pygments_lexer": "ipython3",
   "version": "3.12.7"
  }
 },
 "nbformat": 4,
 "nbformat_minor": 2
}
